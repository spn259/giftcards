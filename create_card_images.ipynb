{
 "cells": [
  {
   "cell_type": "code",
   "execution_count": 1,
   "id": "ebb448b6",
   "metadata": {},
   "outputs": [],
   "source": [
    "from db import PostgresDB\n",
    "from models import Cards, Transactions\n",
    "import os\n",
    "import uuid \n",
    "from datetime import datetime, timezone\n",
    "import pandas as pd\n",
    "\n"
   ]
  },
  {
   "cell_type": "code",
   "execution_count": 2,
   "id": "b6d4f3c9",
   "metadata": {},
   "outputs": [
    {
     "ename": "KeyError",
     "evalue": "'DOTEV_FILE'",
     "output_type": "error",
     "traceback": [
      "\u001b[0;31m---------------------------------------------------------------------------\u001b[0m",
      "\u001b[0;31mKeyError\u001b[0m                                  Traceback (most recent call last)",
      "\u001b[0;32m<ipython-input-2-56873919b881>\u001b[0m in \u001b[0;36m<module>\u001b[0;34m\u001b[0m\n\u001b[0;32m----> 1\u001b[0;31m \u001b[0mos\u001b[0m\u001b[0;34m.\u001b[0m\u001b[0menviron\u001b[0m\u001b[0;34m[\u001b[0m\u001b[0;34m'DOTEV_FILE'\u001b[0m\u001b[0;34m]\u001b[0m\u001b[0;34m\u001b[0m\u001b[0;34m\u001b[0m\u001b[0m\n\u001b[0m\u001b[1;32m      2\u001b[0m \u001b[0menv_file\u001b[0m \u001b[0;34m=\u001b[0m \u001b[0mos\u001b[0m\u001b[0;34m.\u001b[0m\u001b[0menviron\u001b[0m\u001b[0;34m[\u001b[0m\u001b[0;34m'DOTENV_FILE'\u001b[0m\u001b[0;34m]\u001b[0m\u001b[0;34m\u001b[0m\u001b[0;34m\u001b[0m\u001b[0m\n",
      "\u001b[0;32m/opt/miniconda3/envs/ml/lib/python3.7/os.py\u001b[0m in \u001b[0;36m__getitem__\u001b[0;34m(self, key)\u001b[0m\n\u001b[1;32m    679\u001b[0m         \u001b[0;32mexcept\u001b[0m \u001b[0mKeyError\u001b[0m\u001b[0;34m:\u001b[0m\u001b[0;34m\u001b[0m\u001b[0;34m\u001b[0m\u001b[0m\n\u001b[1;32m    680\u001b[0m             \u001b[0;31m# raise KeyError with the original key value\u001b[0m\u001b[0;34m\u001b[0m\u001b[0;34m\u001b[0m\u001b[0;34m\u001b[0m\u001b[0m\n\u001b[0;32m--> 681\u001b[0;31m             \u001b[0;32mraise\u001b[0m \u001b[0mKeyError\u001b[0m\u001b[0;34m(\u001b[0m\u001b[0mkey\u001b[0m\u001b[0;34m)\u001b[0m \u001b[0;32mfrom\u001b[0m \u001b[0;32mNone\u001b[0m\u001b[0;34m\u001b[0m\u001b[0;34m\u001b[0m\u001b[0m\n\u001b[0m\u001b[1;32m    682\u001b[0m         \u001b[0;32mreturn\u001b[0m \u001b[0mself\u001b[0m\u001b[0;34m.\u001b[0m\u001b[0mdecodevalue\u001b[0m\u001b[0;34m(\u001b[0m\u001b[0mvalue\u001b[0m\u001b[0;34m)\u001b[0m\u001b[0;34m\u001b[0m\u001b[0;34m\u001b[0m\u001b[0m\n\u001b[1;32m    683\u001b[0m \u001b[0;34m\u001b[0m\u001b[0m\n",
      "\u001b[0;31mKeyError\u001b[0m: 'DOTEV_FILE'"
     ]
    }
   ],
   "source": [
    "os.environ['DOTEV_FILE']\n",
    "env_file = os.environ['DOTENV_FILE']"
   ]
  },
  {
   "cell_type": "code",
   "execution_count": null,
   "id": "8a3ad215",
   "metadata": {},
   "outputs": [],
   "source": []
  },
  {
   "cell_type": "code",
   "execution_count": 3,
   "id": "3abb0a17",
   "metadata": {},
   "outputs": [],
   "source": [
    "from dotenv import load_dotenv\n",
    "\n",
    "env = load_dotenv('~/Desktop/donuts.env')"
   ]
  },
  {
   "cell_type": "code",
   "execution_count": 15,
   "id": "fa2652f6",
   "metadata": {},
   "outputs": [
    {
     "ename": "TypeError",
     "evalue": "'bool' object is not subscriptable",
     "output_type": "error",
     "traceback": [
      "\u001b[0;31m---------------------------------------------------------------------------\u001b[0m",
      "\u001b[0;31mTypeError\u001b[0m                                 Traceback (most recent call last)",
      "\u001b[0;32m<ipython-input-15-6920109881dd>\u001b[0m in \u001b[0;36m<module>\u001b[0;34m\u001b[0m\n\u001b[0;32m----> 1\u001b[0;31m \u001b[0menv\u001b[0m\u001b[0;34m[\u001b[0m\u001b[0;34m'username'\u001b[0m\u001b[0;34m]\u001b[0m\u001b[0;34m\u001b[0m\u001b[0;34m\u001b[0m\u001b[0m\n\u001b[0m",
      "\u001b[0;31mTypeError\u001b[0m: 'bool' object is not subscriptable"
     ]
    }
   ],
   "source": []
  },
  {
   "cell_type": "code",
   "execution_count": 5,
   "id": "02e44566",
   "metadata": {},
   "outputs": [],
   "source": [
    "username = os.environ['DBUSERNAME']\n",
    "password = os.environ['PASSWORD']\n",
    "host = os.environ['HOST']\n",
    "port = 25060\n",
    "database =os.environ['DATABASE']\n",
    "sslmode = os.environ['SSLMODE']\n"
   ]
  },
  {
   "cell_type": "code",
   "execution_count": 12,
   "id": "09b35ff0",
   "metadata": {},
   "outputs": [],
   "source": [
    "os.getenv('donuts.env')"
   ]
  },
  {
   "cell_type": "code",
   "execution_count": 6,
   "id": "85084fd6",
   "metadata": {},
   "outputs": [],
   "source": [
    "db = PostgresDB(\n",
    "        username=username,\n",
    "        password=password,\n",
    "        host=host,\n",
    "        port=port,\n",
    "        database=database,\n",
    "        sslmode=sslmode)"
   ]
  },
  {
   "cell_type": "code",
   "execution_count": 8,
   "id": "752837c4",
   "metadata": {},
   "outputs": [
    {
     "name": "stdout",
     "output_type": "stream",
     "text": [
      "2025-03-31 14:40:00,156 INFO sqlalchemy.engine.base.Engine SELECT public.cards.uuid AS public_cards_uuid, public.cards.added AS public_cards_added \n",
      "FROM public.cards\n",
      "2025-03-31 14:40:00,158 INFO sqlalchemy.engine.base.Engine {}\n"
     ]
    }
   ],
   "source": [
    "qis = pd.DataFrame(db.session.query(Cards.uuid, Cards.added).all())"
   ]
  },
  {
   "cell_type": "code",
   "execution_count": 49,
   "id": "49863236",
   "metadata": {},
   "outputs": [],
   "source": [
    "qis = qis[qis.added >= '2025-03-31'].reset_index(drop=True)"
   ]
  },
  {
   "cell_type": "code",
   "execution_count": 50,
   "id": "39b8b8ce",
   "metadata": {},
   "outputs": [],
   "source": [
    "import segno"
   ]
  },
  {
   "cell_type": "code",
   "execution_count": 51,
   "id": "03b8b573",
   "metadata": {},
   "outputs": [],
   "source": [
    "import os"
   ]
  },
  {
   "cell_type": "code",
   "execution_count": 15,
   "id": "ec028639",
   "metadata": {},
   "outputs": [
    {
     "data": {
      "text/plain": [
       "'/Users/stevennichols/Desktop/donuts/giftcards/card_images'"
      ]
     },
     "execution_count": 15,
     "metadata": {},
     "output_type": "execute_result"
    }
   ],
   "source": [
    "os.path.abspath(\"card_images\")"
   ]
  },
  {
   "cell_type": "code",
   "execution_count": 48,
   "id": "6c9721a4",
   "metadata": {},
   "outputs": [
    {
     "data": {
      "text/plain": [
       "300"
      ]
     },
     "execution_count": 48,
     "metadata": {},
     "output_type": "execute_result"
    }
   ],
   "source": [
    "len(qis)"
   ]
  },
  {
   "cell_type": "code",
   "execution_count": 35,
   "id": "26684dec",
   "metadata": {},
   "outputs": [],
   "source": [
    "from PIL import Image\n",
    "from PIL import Image, ImageDraw\n",
    "from PIL import Image, ImageDraw\n",
    "\n",
    "import segno\n",
    "\n",
    "# Desired size in centimeters\n",
    "width_cm = 8.5# Width in centimeters\n",
    "height_cm = 5.5  # Height in centimeters\n",
    "\n",
    "# Image DPI (e.g., 300 DPI is common for print-quality images)\n",
    "dpi = 143.99259999999998\n",
    "\n",
    "# Convert the size from centimeters to pixels\n",
    "width_px = int((width_cm / 2.54))\n",
    "height_px = int((height_cm / 2.54))\n",
    "\n",
    "\n",
    "\n",
    "def create_image(text):\n",
    "    \n",
    "    base_image_path = 'static/card_template.png'\n",
    "    base_image = Image.open(base_image_path).convert('RGB')  \n",
    "    full_text = 'https://lionfish-app-zpcxb.ondigitalocean.app/process_card/{}'.format(text)\n",
    "    \n",
    "    \n",
    "    \n",
    "    \n",
    "    white_background = Image.new('RGB', (93, 93), color='white')\n",
    "    \n",
    "    x, y = 187, 53\n",
    "    \n",
    "\n",
    "    base_image.paste(white_background, (x, y))\n",
    "\n",
    "    insert_image_path = 'static/scaled_qrcode.png'\n",
    "    insert_image = Image.open(insert_image_path).convert('RGB')  \n",
    "    insert_image = insert_image.resize((90, 90))  \n",
    "    \n",
    "    base_image.paste(insert_image, (x, y))\n",
    "    \n",
    "    # # Save the result to a new file\n",
    "    output_image_path = 'image_with_qr.jpg'\n",
    "    base_image.save(output_image_path)\n",
    "    \n",
    "    new_image = Image.open(output_image_path).convert('CMYK')  \n",
    "#     new_image = new_image.resize((width_px, height_px))\n",
    "    new_image.save('just_qr/{}.tif'.format(text), format='TIFF')\n",
    "    # new_image.save('images/{}.pdf'.format(text), format='PDF')\n",
    "    # new_image.save('images/{}.eps'.format(text), format='EPS')\n",
    "#     os.remove(\"basic_qrcode.png\")\n",
    "\n",
    "\n",
    "\n",
    "    \n"
   ]
  },
  {
   "cell_type": "code",
   "execution_count": 36,
   "id": "0640955f",
   "metadata": {},
   "outputs": [],
   "source": [
    "for i, r in qis.iterrows():\n",
    "    t = create_image(r.uuid)\n"
   ]
  },
  {
   "cell_type": "code",
   "execution_count": 40,
   "id": "a07d5bcc",
   "metadata": {},
   "outputs": [],
   "source": [
    "import shutil"
   ]
  },
  {
   "cell_type": "code",
   "execution_count": 54,
   "id": "10beeb05",
   "metadata": {},
   "outputs": [],
   "source": [
    "# shutil.rmtree('just_qr')\n",
    "os.mkdir('just_qr')"
   ]
  },
  {
   "cell_type": "code",
   "execution_count": 52,
   "id": "ef0ae0e9",
   "metadata": {},
   "outputs": [],
   "source": [
    "shutil.rmtree('pdfs')\n",
    "os.mkdir('pdfs')"
   ]
  },
  {
   "cell_type": "code",
   "execution_count": 43,
   "id": "8d0d48a3",
   "metadata": {},
   "outputs": [],
   "source": [
    "os.mkdir('just_qr')"
   ]
  },
  {
   "cell_type": "code",
   "execution_count": 55,
   "id": "92f7fe36",
   "metadata": {},
   "outputs": [],
   "source": [
    "base_image_path = 'static/card_template.png'\n"
   ]
  },
  {
   "cell_type": "code",
   "execution_count": 24,
   "id": "4ac06d29",
   "metadata": {},
   "outputs": [],
   "source": [
    "# new_image = Image.open(base_image_path).convert('CMYK')  \n",
    "# #     new_image = new_image.resize((width_px, height_px))\n",
    "# new_image.save('card_images/frente.jpeg', format='jpeg')"
   ]
  },
  {
   "cell_type": "code",
   "execution_count": 57,
   "id": "83ab9dfb",
   "metadata": {},
   "outputs": [],
   "source": [
    "# for i, r in qis.iterrows():\n",
    "#     qrcode = segno.make_qr('just_qr/'+full_text)\n",
    "#     qrcode.save(full_text, scale=100)"
   ]
  },
  {
   "cell_type": "code",
   "execution_count": 58,
   "id": "3896bae9",
   "metadata": {},
   "outputs": [
    {
     "name": "stdout",
     "output_type": "stream",
     "text": [
      "Saved QR code as just_qr/f389b118-fb0e-450a-9d8b-638bdc0f3845.png\n",
      "Saved QR code as just_qr/31568732-9c8a-42cc-8670-af88fdbd7430.png\n",
      "Saved QR code as just_qr/6dfad9e3-802b-44b4-991e-da993c7d01cb.png\n",
      "Saved QR code as just_qr/d2394769-b249-45e1-aa3f-57289065e4e1.png\n",
      "Saved QR code as just_qr/6f4a9054-4038-4824-ad37-29376c9eb7c4.png\n",
      "Saved QR code as just_qr/fb162a3c-85e0-48d2-bd29-7621fc4149c9.png\n",
      "Saved QR code as just_qr/37d790b6-77c0-4b5c-9a3d-5f66159f48f4.png\n",
      "Saved QR code as just_qr/14b09098-e739-433d-8e56-f33fec6833ed.png\n",
      "Saved QR code as just_qr/96c3b6e8-95c2-460d-95b0-5f45fc6bb7e1.png\n",
      "Saved QR code as just_qr/b96a4089-bf21-4e17-a698-6da73a682812.png\n",
      "Saved QR code as just_qr/7d57cae8-b2ae-4ee6-b800-d8d54dbf65c2.png\n",
      "Saved QR code as just_qr/755d4343-d587-45d5-a920-e77889ef2580.png\n",
      "Saved QR code as just_qr/a8c908be-2964-4c3e-beab-88e3a8442cbc.png\n",
      "Saved QR code as just_qr/2c0f7107-a7bd-40dd-8445-987cfa807bf0.png\n",
      "Saved QR code as just_qr/19f7ab3d-2ab1-4f21-b89a-69b6b11290b8.png\n",
      "Saved QR code as just_qr/2f1656ae-7d43-48ea-a943-7dfee1f2587c.png\n",
      "Saved QR code as just_qr/20d60838-56a1-4451-89dd-01a89eb4d8a7.png\n",
      "Saved QR code as just_qr/3f57f8ab-73cf-44b9-9ed4-2c786c16c576.png\n",
      "Saved QR code as just_qr/30bcbaa3-486e-44ee-ae4d-d0a0d729bdd2.png\n",
      "Saved QR code as just_qr/2b40b423-6e8f-4654-954f-207c474e8063.png\n",
      "Saved QR code as just_qr/fb481f9b-e51e-4157-806c-9be9f1728e8f.png\n",
      "Saved QR code as just_qr/095b1eaf-9229-412d-8431-82f7a7ae9315.png\n",
      "Saved QR code as just_qr/f722cbd0-5ead-4488-a0c3-d431a2c43fed.png\n",
      "Saved QR code as just_qr/0ccdf450-90ba-4436-a8fd-fc399488489b.png\n",
      "Saved QR code as just_qr/e0327209-e74f-4e84-87a5-b2ed7ad26128.png\n",
      "Saved QR code as just_qr/aeef3f7d-5d36-45d6-af52-5a6a3e89d326.png\n",
      "Saved QR code as just_qr/d3585fe2-63ba-4db8-beac-f0e514a33d18.png\n",
      "Saved QR code as just_qr/37626f7f-3603-46c6-bb8a-cc1eb4f674c5.png\n",
      "Saved QR code as just_qr/1828f45b-3a0c-4473-bab1-8af293aa5655.png\n",
      "Saved QR code as just_qr/d1e01f0a-fab8-405c-8a64-03605ec334a9.png\n",
      "Saved QR code as just_qr/a717bb6e-960b-45f6-b348-675b19c619ff.png\n",
      "Saved QR code as just_qr/176efce5-25c8-4a02-8110-6d5f7a17a3a3.png\n",
      "Saved QR code as just_qr/974b1fbf-677d-4b36-b19b-e718612626dc.png\n",
      "Saved QR code as just_qr/35432f4e-1c66-4c45-8d6c-fccdb9d5e9cd.png\n",
      "Saved QR code as just_qr/e1ec1af3-365d-485d-b21d-bd1f21d37fdf.png\n",
      "Saved QR code as just_qr/45dd7953-6a5c-43ce-a5c3-cfa7e99bf0cc.png\n",
      "Saved QR code as just_qr/154f4caf-32e9-4084-a81f-6b2488b107c8.png\n",
      "Saved QR code as just_qr/eac43ba4-b135-4dc7-9c24-5ddb2137a1d6.png\n",
      "Saved QR code as just_qr/93668ae8-bbb4-49a4-92c7-86abed3f5166.png\n",
      "Saved QR code as just_qr/8e9d0ba5-e3b7-4d61-be81-204b2d9392bc.png\n",
      "Saved QR code as just_qr/9551ca82-674c-4fec-a16a-cef72a298477.png\n",
      "Saved QR code as just_qr/327db8e2-22ff-4923-a068-90f26d3072ba.png\n",
      "Saved QR code as just_qr/e9062f52-5898-41e1-922b-8c2e33155fcf.png\n",
      "Saved QR code as just_qr/68973439-106d-420f-b08a-8ec27b8975b5.png\n",
      "Saved QR code as just_qr/ac9aa798-0c61-4da6-96d2-444cf0b45200.png\n",
      "Saved QR code as just_qr/07a7dd57-d55b-4313-8a3e-fd2f76a3ab26.png\n",
      "Saved QR code as just_qr/439ed455-824c-48c7-8070-09f4929eff79.png\n",
      "Saved QR code as just_qr/ca326c8f-7a72-48d2-9d45-0aa2aa46d0c5.png\n",
      "Saved QR code as just_qr/a0de1a3d-7df2-4c7c-a9ba-6e2cab4b6e5a.png\n",
      "Saved QR code as just_qr/1f6aa36c-9d89-442a-b1ff-feff884d9210.png\n",
      "Saved QR code as just_qr/643510e6-5b02-4f11-8ab6-1b0e62d5536c.png\n",
      "Saved QR code as just_qr/327ef101-0442-4ec7-ac89-097a3724932c.png\n",
      "Saved QR code as just_qr/07b3b2c0-8539-4666-b5e3-9b7453dde9cf.png\n",
      "Saved QR code as just_qr/b7e9b531-3fb4-4715-85d9-a688e3c7b75c.png\n",
      "Saved QR code as just_qr/a267f1af-1632-43e8-9e5d-2dd6d15c08e5.png\n",
      "Saved QR code as just_qr/0a16f993-9d6c-4cb9-9e6d-9b0f3f4979d6.png\n",
      "Saved QR code as just_qr/58f35ea5-e7cd-428c-bf7f-418a73121bed.png\n",
      "Saved QR code as just_qr/5f7d5bab-b461-4199-8692-dfbc67a20079.png\n",
      "Saved QR code as just_qr/2f4ae7fd-1dd7-459f-804d-b6c53519119e.png\n",
      "Saved QR code as just_qr/d1c8bc91-642a-46b6-b865-a213fd2c9d98.png\n",
      "Saved QR code as just_qr/44307e5e-7f34-42f1-9e52-594f2e7e744a.png\n",
      "Saved QR code as just_qr/0f18ed29-8359-4ddc-8b24-77d083524fa8.png\n",
      "Saved QR code as just_qr/4155c076-3e64-4f75-bcc9-5ea3e98ee2ea.png\n",
      "Saved QR code as just_qr/9bbbc56b-9e8d-4af9-a46f-8be7649f055a.png\n",
      "Saved QR code as just_qr/36f21734-5801-4cb8-8b81-520d4c01389d.png\n",
      "Saved QR code as just_qr/c0319b73-cb04-4bcc-864f-2fc70322c1a1.png\n",
      "Saved QR code as just_qr/4ea0ba60-8bbc-4a3b-a212-5b45be5b37c5.png\n",
      "Saved QR code as just_qr/72a8e423-9430-4dda-a99e-c606b99411dd.png\n",
      "Saved QR code as just_qr/1721c0c5-08c0-4744-b9cf-60eab0b2b194.png\n",
      "Saved QR code as just_qr/0fa013b2-6efd-4429-b28b-fa0ca7e07954.png\n",
      "Saved QR code as just_qr/41369905-dbcb-4687-a584-6edbc083bb85.png\n",
      "Saved QR code as just_qr/894b36bd-ea00-4d32-9e9c-f3591a3e4ba1.png\n",
      "Saved QR code as just_qr/a32379eb-a14d-438b-90dc-d7c5567003c5.png\n",
      "Saved QR code as just_qr/de9bff26-1de0-44dd-a622-d23123269cf7.png\n",
      "Saved QR code as just_qr/43fd6eeb-8eb8-4258-9b68-aa39dfcecf98.png\n",
      "Saved QR code as just_qr/5cd90947-3d0a-45b4-90c8-1840b00d534a.png\n",
      "Saved QR code as just_qr/5a054979-b1b8-4b9e-bda9-42a902bde8f2.png\n",
      "Saved QR code as just_qr/3d8b712c-739f-4700-a737-609b6b243125.png\n",
      "Saved QR code as just_qr/182216ed-dc7a-48ec-82e9-66db05f22717.png\n",
      "Saved QR code as just_qr/e17c3918-7135-4c31-82ce-2e1ac4fa9f32.png\n",
      "Saved QR code as just_qr/6e9d2600-d30d-4624-975c-288f233834d5.png\n",
      "Saved QR code as just_qr/58497119-3742-4dca-ad9d-34f412b21ee2.png\n",
      "Saved QR code as just_qr/3cec0b73-e8ca-455a-b876-449eab6c0367.png\n",
      "Saved QR code as just_qr/98f19c77-5d3c-49e3-943c-cf5bb3f3ca7c.png\n",
      "Saved QR code as just_qr/56f517e8-8b0f-4e5a-bb1c-c0aebe4960ca.png\n",
      "Saved QR code as just_qr/a08c01d4-176c-43a9-9e78-bc86a21a39dc.png\n",
      "Saved QR code as just_qr/0df1d705-8de8-4c6e-abaa-2594e66b1f34.png\n",
      "Saved QR code as just_qr/cb3f2c8f-2091-473a-b48e-aeea0c861edf.png\n",
      "Saved QR code as just_qr/87655f6d-989e-4124-aa4f-bf6d832b0a5d.png\n",
      "Saved QR code as just_qr/ef0b30cf-d17b-45b4-a0f0-e42686a7f90c.png\n",
      "Saved QR code as just_qr/19eb8a2a-9fdc-402d-b385-7d9828ed4d2e.png\n",
      "Saved QR code as just_qr/13bf98b3-39c0-4543-8ca4-5e56cf98f0fe.png\n",
      "Saved QR code as just_qr/295941d6-5132-4f32-a762-47677926d8e0.png\n",
      "Saved QR code as just_qr/f60e0ff0-883e-4eb2-815e-3d521e97e96c.png\n",
      "Saved QR code as just_qr/ab8e10c9-bf5a-4705-9199-05ad2bbe7997.png\n",
      "Saved QR code as just_qr/cb6cae35-d760-46df-8fa9-0cde62580372.png\n",
      "Saved QR code as just_qr/b0c71328-cd89-487d-8f24-f68791e55ed9.png\n",
      "Saved QR code as just_qr/bb7b5889-91a0-4f49-972c-2fa558b27bd2.png\n",
      "Saved QR code as just_qr/41f65d8f-9128-4bb7-adb6-771f57767425.png\n",
      "Saved QR code as just_qr/bdf35142-13f8-4c0f-94d3-31a35058f8b7.png\n",
      "Saved QR code as just_qr/2eb24557-422f-49c3-b16c-61d17ebc63f4.png\n",
      "Saved QR code as just_qr/684a1c9a-35d4-499c-b1d0-6ba8add49d13.png\n",
      "Saved QR code as just_qr/c156b8e5-3a7a-420c-b7d5-56c61689468b.png\n",
      "Saved QR code as just_qr/0110fbac-9dcc-416c-9994-33180556ab11.png\n",
      "Saved QR code as just_qr/ffdb8578-5231-452d-bbaa-ad0b2abe38f8.png\n",
      "Saved QR code as just_qr/f60b5775-2b01-47e7-a22a-111970b7a1d6.png\n",
      "Saved QR code as just_qr/173cea86-d3ef-4385-8a51-58e5f07fdb69.png\n",
      "Saved QR code as just_qr/d6290c91-6985-4c51-8eed-1e8d53dd184a.png\n",
      "Saved QR code as just_qr/4bb0d63d-3c40-463d-9bcb-07eb317b3eb0.png\n",
      "Saved QR code as just_qr/833861a0-e5b2-444d-b727-46b49728a792.png\n",
      "Saved QR code as just_qr/b1630bfa-4dcd-4a20-90eb-e2619f3ec098.png\n",
      "Saved QR code as just_qr/15178622-a545-4848-9e5c-d523c5335c78.png\n",
      "Saved QR code as just_qr/d30f1eea-2c06-43ab-a208-9e2d5fd91083.png\n",
      "Saved QR code as just_qr/270ea27b-ccd4-49dd-be0f-bf82036d2672.png\n",
      "Saved QR code as just_qr/ccf04726-f0b2-49fa-8b1f-419702efd0fc.png\n",
      "Saved QR code as just_qr/6f868a79-09ed-48db-98d7-16cb013ce75c.png\n",
      "Saved QR code as just_qr/b4b4a2d6-79a3-45ba-adad-501d361cd49e.png\n",
      "Saved QR code as just_qr/202201fd-d196-47a2-bdfe-da836f1fc40f.png\n",
      "Saved QR code as just_qr/946fb68a-34d7-4041-a102-9dea43672b5d.png\n",
      "Saved QR code as just_qr/cf02c8fe-8f3b-43d1-aa9e-79b5c7efb567.png\n",
      "Saved QR code as just_qr/1c42fac3-ac7b-4e04-a6ff-b00b815b0609.png\n",
      "Saved QR code as just_qr/22092aa2-de9b-46a2-8cad-73ff1e99605d.png\n",
      "Saved QR code as just_qr/9867f0fe-ec1f-43ab-a8c3-13fb968bbba9.png\n",
      "Saved QR code as just_qr/7e524ff9-bb7b-4042-bb6b-b70594148579.png\n",
      "Saved QR code as just_qr/84e3db3c-36a1-4823-84a2-c81e7cbcfbac.png\n",
      "Saved QR code as just_qr/cfb99857-035c-4c71-bcc1-2b305e9fe3c8.png\n"
     ]
    },
    {
     "name": "stdout",
     "output_type": "stream",
     "text": [
      "Saved QR code as just_qr/d3fc552c-6abe-4f23-b7ec-e06303cf2006.png\n",
      "Saved QR code as just_qr/ddb59b5c-8b05-4537-a3b3-fa0bb89f07c0.png\n",
      "Saved QR code as just_qr/adadaad2-e3f2-4e6c-8c5f-a8d769e1dc3a.png\n",
      "Saved QR code as just_qr/546d3c15-9631-4067-9810-84bb0160719f.png\n",
      "Saved QR code as just_qr/d5e08400-d338-4d46-8853-c6a366126854.png\n",
      "Saved QR code as just_qr/ef9d37dd-1c9e-44db-a2f4-33d3b6bcee39.png\n",
      "Saved QR code as just_qr/8aea4064-d1d6-4581-8864-81fd2cce41b5.png\n",
      "Saved QR code as just_qr/059171e6-0622-4820-81f7-cbd62fdc78c0.png\n",
      "Saved QR code as just_qr/c9c8a660-298a-4b77-9b82-3e4e31c92795.png\n",
      "Saved QR code as just_qr/653eef80-dd19-469a-a199-dd40a50e15e8.png\n",
      "Saved QR code as just_qr/192e8be5-1db0-48d0-a3b9-639a3cd2ee8e.png\n",
      "Saved QR code as just_qr/d8639eef-031d-4b82-b8b3-1efa93fbf382.png\n",
      "Saved QR code as just_qr/49dd8f92-2b77-4a76-aa1d-168573fa71c9.png\n",
      "Saved QR code as just_qr/b259deec-6a69-4ef1-8bfd-4305e43f1ee2.png\n",
      "Saved QR code as just_qr/3856179a-e12f-4b7e-8861-0920713697f5.png\n",
      "Saved QR code as just_qr/3d593481-7b24-4121-b9f9-28e3868d314b.png\n",
      "Saved QR code as just_qr/efc93048-03da-4b41-aea6-e7582d8825dc.png\n",
      "Saved QR code as just_qr/098e1edc-e96e-43d2-b832-bda0a0820c9e.png\n",
      "Saved QR code as just_qr/fbbc22aa-83f6-46e9-b111-4bdff7f76e94.png\n",
      "Saved QR code as just_qr/fb6144ec-0370-48af-a5ce-48889c147c5b.png\n",
      "Saved QR code as just_qr/f4a34e29-5b28-4d8d-84e7-33e7f729113c.png\n",
      "Saved QR code as just_qr/923a6ce0-e5ba-41af-b037-261e20f8acb1.png\n",
      "Saved QR code as just_qr/4e9ed8f6-7d54-49ea-b30d-000f7800cac3.png\n",
      "Saved QR code as just_qr/d5b4b131-f09d-4891-a441-f4250cbbb280.png\n",
      "Saved QR code as just_qr/d849130a-ae7c-4240-beb3-c1e749c3ae59.png\n",
      "Saved QR code as just_qr/59eeb25d-7be0-4e44-b966-3989b7d04191.png\n",
      "Saved QR code as just_qr/d6796fad-03a6-4991-a6b5-b89d0396b336.png\n",
      "Saved QR code as just_qr/fd750020-8e10-4cc5-a7ba-b176ea01f838.png\n",
      "Saved QR code as just_qr/6b07ca24-1340-46b9-adee-04c6cd1ed395.png\n",
      "Saved QR code as just_qr/d58d9567-ae50-4792-bb50-321def565e39.png\n",
      "Saved QR code as just_qr/81f6c4f2-fab0-44ec-bc45-a2fb3294ed2b.png\n",
      "Saved QR code as just_qr/90a6f2e5-781f-44ed-8db7-ad659fd5f186.png\n",
      "Saved QR code as just_qr/fd245d34-b619-4787-9043-59b8a1f819fc.png\n",
      "Saved QR code as just_qr/c0cd2e26-2127-4bf4-b6ed-fd7679c67285.png\n",
      "Saved QR code as just_qr/20daa7c1-502e-467c-8021-f45fce32f008.png\n",
      "Saved QR code as just_qr/c65ccd74-403a-4bc8-8073-3f3a298ebcaa.png\n",
      "Saved QR code as just_qr/0ef09c1c-43e8-4a8f-85c4-86bdad27a258.png\n",
      "Saved QR code as just_qr/bcfc2cac-2b55-4d52-bfa9-0cff33ee55b4.png\n",
      "Saved QR code as just_qr/59ce9e29-1a00-404c-b163-a7b60ed3b352.png\n",
      "Saved QR code as just_qr/ba82f016-5809-4cf9-8cc4-9fb0dd4bc620.png\n",
      "Saved QR code as just_qr/93efab17-f730-4010-9a49-9cfca1c6c937.png\n",
      "Saved QR code as just_qr/0b4de26f-d6c4-4482-89c5-caa537db10c6.png\n",
      "Saved QR code as just_qr/a4c09731-f38e-4d5a-a56e-df406aa11026.png\n",
      "Saved QR code as just_qr/74f7e16c-0b4d-4d90-83f9-89e494171ddd.png\n",
      "Saved QR code as just_qr/0b3f3cda-0d46-4869-a9c5-8811bc8f21a6.png\n",
      "Saved QR code as just_qr/35690bfe-3fdc-4c87-99e3-5cb155f89e98.png\n",
      "Saved QR code as just_qr/268ce5b6-0fa9-47e7-a7a6-c836a35c5ed5.png\n",
      "Saved QR code as just_qr/ae56e128-9a90-4aa8-b3c8-b0da337202fa.png\n",
      "Saved QR code as just_qr/ca3a3ca6-3491-449b-9877-a9f8e9c2b4f9.png\n",
      "Saved QR code as just_qr/3701f81e-5346-4062-94ae-ee765ca90262.png\n",
      "Saved QR code as just_qr/978fc34b-512f-4d25-9272-f5be7ef3229f.png\n",
      "Saved QR code as just_qr/8a361a73-753a-4f2c-8f49-66ca00d3356e.png\n",
      "Saved QR code as just_qr/3472bcbf-e7ed-42f4-8fc1-1519b93839e6.png\n",
      "Saved QR code as just_qr/7e2097a2-6cc4-4a6b-bfcf-d6b5e5b5a712.png\n",
      "Saved QR code as just_qr/e65cafb7-20f0-466e-b433-98d6cbde4bd7.png\n",
      "Saved QR code as just_qr/aa6631f0-c8a6-498e-a13f-54375c7240bd.png\n",
      "Saved QR code as just_qr/0c80019f-1bbd-450a-a281-c430d48bd0b1.png\n",
      "Saved QR code as just_qr/e0471a7a-42f6-49f9-a633-bd0b2bd92580.png\n",
      "Saved QR code as just_qr/c726d4a2-69ca-416e-a819-6bc94334898d.png\n",
      "Saved QR code as just_qr/46dccf46-c18a-49d5-86fc-27225cbc5c5a.png\n",
      "Saved QR code as just_qr/82ed0c93-c404-428e-97b7-67b974e85e7d.png\n",
      "Saved QR code as just_qr/5830d1e0-64ae-4900-87d4-31d679baef85.png\n",
      "Saved QR code as just_qr/0d5ff9d3-d91c-45b5-8b5b-4122b52a62dc.png\n",
      "Saved QR code as just_qr/0609ee4c-71be-421d-a235-a545198401f2.png\n",
      "Saved QR code as just_qr/7c4539fa-b837-42ae-91b9-a37dbe67e60e.png\n",
      "Saved QR code as just_qr/177c227e-e493-42a7-afcc-cad7e74b6379.png\n",
      "Saved QR code as just_qr/1f5519bf-280c-4389-a6ef-ca96532d4fd5.png\n",
      "Saved QR code as just_qr/b1659d51-fa1b-414a-a5cf-bca9079a3950.png\n",
      "Saved QR code as just_qr/888833c9-6840-45db-8f01-e8770d0b7894.png\n",
      "Saved QR code as just_qr/d68ededd-f562-48e8-a2f5-48549e377d2c.png\n",
      "Saved QR code as just_qr/c653ed1e-c47c-49a6-ba29-b4f6df56ec3c.png\n",
      "Saved QR code as just_qr/26fa68d3-f2de-4f68-bdc7-56ad4e769c44.png\n",
      "Saved QR code as just_qr/9256263c-5886-439c-8b14-2587ccf01e91.png\n",
      "Saved QR code as just_qr/5852cb40-f919-4965-b045-4ee602aa629c.png\n"
     ]
    }
   ],
   "source": [
    "import qrcode\n",
    "for i, r in qis.iterrows():\n",
    "    # URL you want to convert into QR code\n",
    "    \n",
    "    full_text = 'https://lionfish-app-zpcxb.ondigitalocean.app/process_card/{}'.format(r.uuid)\n",
    "    url = full_text\n",
    "\n",
    "    # Generate QR code\n",
    "    qr = qrcode.QRCode(\n",
    "        version=1,\n",
    "        error_correction=qrcode.constants.ERROR_CORRECT_L,\n",
    "        box_size=10,\n",
    "        border=4,\n",
    "    )\n",
    "\n",
    "    # Add URL data to the QR code\n",
    "    qr.add_data(url)\n",
    "    qr.make(fit=True)\n",
    "\n",
    "    # Create an image from the QR code instance\n",
    "    img = qr.make_image(fill_color=\"black\", back_color=\"white\")\n",
    "\n",
    "    # Specify the path and filename for the QR code image\n",
    "    file_path = \"just_qr/\"+r.uuid+ \".png\" # Save as PNG\n",
    "\n",
    "    # Save the image\n",
    "    img.save(file_path)\n",
    "    print(f\"Saved QR code as {file_path}\")\n"
   ]
  },
  {
   "cell_type": "code",
   "execution_count": 59,
   "id": "d3e2ef2f",
   "metadata": {},
   "outputs": [
    {
     "data": {
      "text/plain": [
       "200"
      ]
     },
     "execution_count": 59,
     "metadata": {},
     "output_type": "execute_result"
    }
   ],
   "source": [
    "len(qis)"
   ]
  },
  {
   "cell_type": "code",
   "execution_count": null,
   "id": "42c14c43",
   "metadata": {},
   "outputs": [],
   "source": []
  }
 ],
 "metadata": {
  "kernelspec": {
   "display_name": "Python 3",
   "language": "python",
   "name": "python3"
  },
  "language_info": {
   "codemirror_mode": {
    "name": "ipython",
    "version": 3
   },
   "file_extension": ".py",
   "mimetype": "text/x-python",
   "name": "python",
   "nbconvert_exporter": "python",
   "pygments_lexer": "ipython3",
   "version": "3.7.10"
  }
 },
 "nbformat": 4,
 "nbformat_minor": 5
}
