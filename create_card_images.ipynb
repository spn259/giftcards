{
 "cells": [
  {
   "cell_type": "code",
   "execution_count": 11,
   "id": "ebb448b6",
   "metadata": {},
   "outputs": [],
   "source": [
    "from db import PostgresDB\n",
    "from models import Cards, Transactions\n",
    "import os\n",
    "import uuid \n",
    "from datetime import datetime, timezone\n",
    "import pandas as pd\n",
    "\n",
    "username='doadmin'\n",
    "password='AVNS_QZKju9k-aiaCpqjoo6Z'\n",
    "host='adcs-giftcards-do-user-18055717-0.e.db.ondigitalocean.com'\n",
    "port=25060\n",
    "database='defaultdb'\n",
    "sslmode='require'"
   ]
  },
  {
   "cell_type": "code",
   "execution_count": 12,
   "id": "85084fd6",
   "metadata": {},
   "outputs": [],
   "source": [
    "db = PostgresDB(\n",
    "        username=username,\n",
    "        password=password,\n",
    "        host=host,\n",
    "        port=port,\n",
    "        database=database,\n",
    "        sslmode=sslmode)"
   ]
  },
  {
   "cell_type": "code",
   "execution_count": 13,
   "id": "752837c4",
   "metadata": {},
   "outputs": [
    {
     "name": "stdout",
     "output_type": "stream",
     "text": [
      "2024-10-21 11:05:32,245 INFO sqlalchemy.engine.base.Engine select version()\n",
      "2024-10-21 11:05:32,248 INFO sqlalchemy.engine.base.Engine {}\n",
      "2024-10-21 11:05:32,402 INFO sqlalchemy.engine.base.Engine select current_schema()\n",
      "2024-10-21 11:05:32,404 INFO sqlalchemy.engine.base.Engine {}\n",
      "2024-10-21 11:05:32,560 INFO sqlalchemy.engine.base.Engine SELECT CAST('test plain returns' AS VARCHAR(60)) AS anon_1\n",
      "2024-10-21 11:05:32,561 INFO sqlalchemy.engine.base.Engine {}\n",
      "2024-10-21 11:05:32,643 INFO sqlalchemy.engine.base.Engine SELECT CAST('test unicode returns' AS VARCHAR(60)) AS anon_1\n",
      "2024-10-21 11:05:32,646 INFO sqlalchemy.engine.base.Engine {}\n",
      "2024-10-21 11:05:32,803 INFO sqlalchemy.engine.base.Engine show standard_conforming_strings\n",
      "2024-10-21 11:05:32,805 INFO sqlalchemy.engine.base.Engine {}\n",
      "2024-10-21 11:05:32,964 INFO sqlalchemy.engine.base.Engine BEGIN (implicit)\n",
      "2024-10-21 11:05:32,966 INFO sqlalchemy.engine.base.Engine SELECT public.cards.uuid AS public_cards_uuid \n",
      "FROM public.cards\n",
      "2024-10-21 11:05:32,969 INFO sqlalchemy.engine.base.Engine {}\n"
     ]
    }
   ],
   "source": [
    "qis = pd.DataFrame(db.session.query(Cards.uuid).all())"
   ]
  },
  {
   "cell_type": "code",
   "execution_count": 14,
   "id": "39b8b8ce",
   "metadata": {},
   "outputs": [],
   "source": [
    "import segno"
   ]
  },
  {
   "cell_type": "code",
   "execution_count": 15,
   "id": "9f7b50ee",
   "metadata": {},
   "outputs": [],
   "source": [
    "import os"
   ]
  },
  {
   "cell_type": "code",
   "execution_count": 16,
   "id": "c2a4b5e2",
   "metadata": {},
   "outputs": [
    {
     "data": {
      "text/plain": [
       "'/Users/stevennichols/Desktop/donuts/giftcards/card_images'"
      ]
     },
     "execution_count": 16,
     "metadata": {},
     "output_type": "execute_result"
    }
   ],
   "source": [
    "os.path.abspath(\"card_images\")"
   ]
  },
  {
   "cell_type": "code",
   "execution_count": 17,
   "id": "26684dec",
   "metadata": {},
   "outputs": [],
   "source": [
    "from PIL import Image\n",
    "from PIL import Image, ImageDraw\n",
    "from PIL import Image, ImageDraw\n",
    "\n",
    "import segno\n",
    "\n",
    "# Desired size in centimeters\n",
    "width_cm = 8.5# Width in centimeters\n",
    "height_cm = 5.5  # Height in centimeters\n",
    "\n",
    "# Image DPI (e.g., 300 DPI is common for print-quality images)\n",
    "dpi = 143.99259999999998\n",
    "\n",
    "# Convert the size from centimeters to pixels\n",
    "width_px = int((width_cm / 2.54))\n",
    "height_px = int((height_cm / 2.54))\n",
    "\n",
    "\n",
    "\n",
    "def create_image(text):\n",
    "    \n",
    "    base_image_path = 'Austin Donut Co Gift Card-2.png'\n",
    "    base_image = Image.open(base_image_path).convert('RGB')  \n",
    "    full_text = 'https://lionfish-app-zpcxb.ondigitalocean.app/process_card/{}'.format(text)\n",
    "    \n",
    "    \n",
    "    \n",
    "    \n",
    "    white_background = Image.new('RGB', (93, 93), color='white')\n",
    "    \n",
    "    x, y = 187, 53\n",
    "    \n",
    "\n",
    "    base_image.paste(white_background, (x, y))\n",
    "\n",
    "    insert_image_path = 'basic_qrcode.png'\n",
    "    insert_image = Image.open(insert_image_path).convert('RGB')  \n",
    "    insert_image = insert_image.resize((90, 90))  \n",
    "    \n",
    "    base_image.paste(insert_image, (x, y))\n",
    "    \n",
    "    # # Save the result to a new file\n",
    "    output_image_path = 'image_with_qr.jpg'\n",
    "    base_image.save(output_image_path)\n",
    "    \n",
    "    new_image = Image.open(output_image_path).convert('CMYK')  \n",
    "#     new_image = new_image.resize((width_px, height_px))\n",
    "    new_image.save('card_images/{}.tif'.format(text), format='TIFF')\n",
    "    # new_image.save('images/{}.pdf'.format(text), format='PDF')\n",
    "    # new_image.save('images/{}.eps'.format(text), format='EPS')\n",
    "    os.remove(\"basic_qrcode.png\")\n",
    "\n",
    "\n",
    "\n",
    "    \n"
   ]
  },
  {
   "cell_type": "code",
   "execution_count": 18,
   "id": "0640955f",
   "metadata": {},
   "outputs": [],
   "source": [
    "for i, r in qis.iterrows():\n",
    "    t = create_image(r.uuid)\n"
   ]
  },
  {
   "cell_type": "code",
   "execution_count": 6,
   "id": "a07d5bcc",
   "metadata": {},
   "outputs": [],
   "source": [
    "import shutil"
   ]
  },
  {
   "cell_type": "code",
   "execution_count": 25,
   "id": "10beeb05",
   "metadata": {},
   "outputs": [],
   "source": [
    "shutil.rmtree('just_qr')"
   ]
  },
  {
   "cell_type": "code",
   "execution_count": 26,
   "id": "8d0d48a3",
   "metadata": {},
   "outputs": [],
   "source": [
    "os.mkdir('just_qr')"
   ]
  },
  {
   "cell_type": "code",
   "execution_count": 109,
   "id": "92f7fe36",
   "metadata": {},
   "outputs": [],
   "source": [
    "base_image_path = 'Austin Donut Co Gift Card-1.png'\n"
   ]
  },
  {
   "cell_type": "code",
   "execution_count": 110,
   "id": "4ac06d29",
   "metadata": {},
   "outputs": [],
   "source": [
    "new_image = Image.open(base_image_path).convert('CMYK')  \n",
    "#     new_image = new_image.resize((width_px, height_px))\n",
    "new_image.save('card_images/frente.jpeg', format='jpeg')"
   ]
  },
  {
   "cell_type": "code",
   "execution_count": 20,
   "id": "83ab9dfb",
   "metadata": {},
   "outputs": [
    {
     "ename": "ValueError",
     "evalue": "Unknown file extension \".app/process_card/8f1b6139-121f-4568-b92a-cd6440375254\"",
     "output_type": "error",
     "traceback": [
      "\u001b[0;31m---------------------------------------------------------------------------\u001b[0m",
      "\u001b[0;31mKeyError\u001b[0m                                  Traceback (most recent call last)",
      "\u001b[0;32m/opt/miniconda3/envs/ml/lib/python3.7/site-packages/segno/writers.py\u001b[0m in \u001b[0;36msave\u001b[0;34m(matrix, matrix_size, out, kind, **kw)\u001b[0m\n\u001b[1;32m   1615\u001b[0m     \u001b[0;32mtry\u001b[0m\u001b[0;34m:\u001b[0m\u001b[0;34m\u001b[0m\u001b[0;34m\u001b[0m\u001b[0m\n\u001b[0;32m-> 1616\u001b[0;31m         \u001b[0mserializer\u001b[0m \u001b[0;34m=\u001b[0m \u001b[0m_VALID_SERIALIZERS\u001b[0m\u001b[0;34m[\u001b[0m\u001b[0mext\u001b[0m \u001b[0;32mif\u001b[0m \u001b[0;32mnot\u001b[0m \u001b[0mis_svgz\u001b[0m \u001b[0;32melse\u001b[0m \u001b[0;34m'svg'\u001b[0m\u001b[0;34m]\u001b[0m\u001b[0;34m\u001b[0m\u001b[0;34m\u001b[0m\u001b[0m\n\u001b[0m\u001b[1;32m   1617\u001b[0m     \u001b[0;32mexcept\u001b[0m \u001b[0mKeyError\u001b[0m\u001b[0;34m:\u001b[0m\u001b[0;34m\u001b[0m\u001b[0;34m\u001b[0m\u001b[0m\n",
      "\u001b[0;31mKeyError\u001b[0m: 'app/process_card/8f1b6139-121f-4568-b92a-cd6440375254'",
      "\nDuring handling of the above exception, another exception occurred:\n",
      "\u001b[0;31mValueError\u001b[0m                                Traceback (most recent call last)",
      "\u001b[0;32m<ipython-input-20-c4f6ba3dcd1e>\u001b[0m in \u001b[0;36m<module>\u001b[0;34m\u001b[0m\n\u001b[1;32m      2\u001b[0m     \u001b[0mfull_text\u001b[0m \u001b[0;34m=\u001b[0m \u001b[0;34m'https://lionfish-app-zpcxb.ondigitalocean.app/process_card/{}'\u001b[0m\u001b[0;34m.\u001b[0m\u001b[0mformat\u001b[0m\u001b[0;34m(\u001b[0m\u001b[0mr\u001b[0m\u001b[0;34m.\u001b[0m\u001b[0muuid\u001b[0m\u001b[0;34m)\u001b[0m\u001b[0;34m\u001b[0m\u001b[0;34m\u001b[0m\u001b[0m\n\u001b[1;32m      3\u001b[0m     \u001b[0mqrcode\u001b[0m \u001b[0;34m=\u001b[0m \u001b[0msegno\u001b[0m\u001b[0;34m.\u001b[0m\u001b[0mmake_qr\u001b[0m\u001b[0;34m(\u001b[0m\u001b[0;34m'just_qr/'\u001b[0m\u001b[0;34m+\u001b[0m\u001b[0mfull_text\u001b[0m\u001b[0;34m)\u001b[0m\u001b[0;34m\u001b[0m\u001b[0;34m\u001b[0m\u001b[0m\n\u001b[0;32m----> 4\u001b[0;31m     \u001b[0mqrcode\u001b[0m\u001b[0;34m.\u001b[0m\u001b[0msave\u001b[0m\u001b[0;34m(\u001b[0m\u001b[0mfull_text\u001b[0m\u001b[0;34m,\u001b[0m \u001b[0mscale\u001b[0m\u001b[0;34m=\u001b[0m\u001b[0;36m100\u001b[0m\u001b[0;34m)\u001b[0m\u001b[0;34m\u001b[0m\u001b[0;34m\u001b[0m\u001b[0m\n\u001b[0m",
      "\u001b[0;32m/opt/miniconda3/envs/ml/lib/python3.7/site-packages/segno/__init__.py\u001b[0m in \u001b[0;36msave\u001b[0;34m(self, out, kind, **kw)\u001b[0m\n\u001b[1;32m    939\u001b[0m         \u001b[0;34m:\u001b[0m\u001b[0mparam\u001b[0m \u001b[0mkw\u001b[0m\u001b[0;34m:\u001b[0m \u001b[0mAny\u001b[0m \u001b[0mof\u001b[0m \u001b[0mthe\u001b[0m \u001b[0msupported\u001b[0m \u001b[0mkeywords\u001b[0m \u001b[0mby\u001b[0m \u001b[0mthe\u001b[0m \u001b[0mspecific\u001b[0m \u001b[0mserializer\u001b[0m\u001b[0;34m.\u001b[0m\u001b[0;34m\u001b[0m\u001b[0;34m\u001b[0m\u001b[0m\n\u001b[1;32m    940\u001b[0m         \"\"\"\n\u001b[0;32m--> 941\u001b[0;31m         \u001b[0mwriters\u001b[0m\u001b[0;34m.\u001b[0m\u001b[0msave\u001b[0m\u001b[0;34m(\u001b[0m\u001b[0mself\u001b[0m\u001b[0;34m.\u001b[0m\u001b[0mmatrix\u001b[0m\u001b[0;34m,\u001b[0m \u001b[0mself\u001b[0m\u001b[0;34m.\u001b[0m\u001b[0m_matrix_size\u001b[0m\u001b[0;34m,\u001b[0m \u001b[0mout\u001b[0m\u001b[0;34m,\u001b[0m \u001b[0mkind\u001b[0m\u001b[0;34m,\u001b[0m \u001b[0;34m**\u001b[0m\u001b[0mkw\u001b[0m\u001b[0;34m)\u001b[0m\u001b[0;34m\u001b[0m\u001b[0;34m\u001b[0m\u001b[0m\n\u001b[0m\u001b[1;32m    942\u001b[0m \u001b[0;34m\u001b[0m\u001b[0m\n\u001b[1;32m    943\u001b[0m     \u001b[0;32mdef\u001b[0m \u001b[0m__getattr__\u001b[0m\u001b[0;34m(\u001b[0m\u001b[0mself\u001b[0m\u001b[0;34m,\u001b[0m \u001b[0mname\u001b[0m\u001b[0;34m)\u001b[0m\u001b[0;34m:\u001b[0m\u001b[0;34m\u001b[0m\u001b[0;34m\u001b[0m\u001b[0m\n",
      "\u001b[0;32m/opt/miniconda3/envs/ml/lib/python3.7/site-packages/segno/writers.py\u001b[0m in \u001b[0;36msave\u001b[0;34m(matrix, matrix_size, out, kind, **kw)\u001b[0m\n\u001b[1;32m   1616\u001b[0m         \u001b[0mserializer\u001b[0m \u001b[0;34m=\u001b[0m \u001b[0m_VALID_SERIALIZERS\u001b[0m\u001b[0;34m[\u001b[0m\u001b[0mext\u001b[0m \u001b[0;32mif\u001b[0m \u001b[0;32mnot\u001b[0m \u001b[0mis_svgz\u001b[0m \u001b[0;32melse\u001b[0m \u001b[0;34m'svg'\u001b[0m\u001b[0;34m]\u001b[0m\u001b[0;34m\u001b[0m\u001b[0;34m\u001b[0m\u001b[0m\n\u001b[1;32m   1617\u001b[0m     \u001b[0;32mexcept\u001b[0m \u001b[0mKeyError\u001b[0m\u001b[0;34m:\u001b[0m\u001b[0;34m\u001b[0m\u001b[0;34m\u001b[0m\u001b[0m\n\u001b[0;32m-> 1618\u001b[0;31m         \u001b[0;32mraise\u001b[0m \u001b[0mValueError\u001b[0m\u001b[0;34m(\u001b[0m\u001b[0;34m'Unknown file extension \".{0}\"'\u001b[0m\u001b[0;34m.\u001b[0m\u001b[0mformat\u001b[0m\u001b[0;34m(\u001b[0m\u001b[0mext\u001b[0m\u001b[0;34m)\u001b[0m\u001b[0;34m)\u001b[0m\u001b[0;34m\u001b[0m\u001b[0;34m\u001b[0m\u001b[0m\n\u001b[0m\u001b[1;32m   1619\u001b[0m     \u001b[0;32mif\u001b[0m \u001b[0mis_svgz\u001b[0m\u001b[0;34m:\u001b[0m\u001b[0;34m\u001b[0m\u001b[0;34m\u001b[0m\u001b[0m\n\u001b[1;32m   1620\u001b[0m         \u001b[0;32mwith\u001b[0m \u001b[0mgzip\u001b[0m\u001b[0;34m.\u001b[0m\u001b[0mopen\u001b[0m\u001b[0;34m(\u001b[0m\u001b[0mout\u001b[0m\u001b[0;34m,\u001b[0m \u001b[0;34m'wb'\u001b[0m\u001b[0;34m,\u001b[0m \u001b[0mcompresslevel\u001b[0m\u001b[0;34m=\u001b[0m\u001b[0mkw\u001b[0m\u001b[0;34m.\u001b[0m\u001b[0mpop\u001b[0m\u001b[0;34m(\u001b[0m\u001b[0;34m'compresslevel'\u001b[0m\u001b[0;34m,\u001b[0m \u001b[0;36m9\u001b[0m\u001b[0;34m)\u001b[0m\u001b[0;34m)\u001b[0m \u001b[0;32mas\u001b[0m \u001b[0mf\u001b[0m\u001b[0;34m:\u001b[0m\u001b[0;34m\u001b[0m\u001b[0;34m\u001b[0m\u001b[0m\n",
      "\u001b[0;31mValueError\u001b[0m: Unknown file extension \".app/process_card/8f1b6139-121f-4568-b92a-cd6440375254\""
     ]
    }
   ],
   "source": [
    "for i, r in qis.iterrows():\n",
    "    qrcode = segno.make_qr('just_qr/'+full_text)\n",
    "    qrcode.save(full_text, scale=100)"
   ]
  },
  {
   "cell_type": "code",
   "execution_count": 28,
   "id": "cb05a887",
   "metadata": {},
   "outputs": [
    {
     "name": "stdout",
     "output_type": "stream",
     "text": [
      "Saved QR code as just_qr/8f1b6139-121f-4568-b92a-cd6440375254.png\n",
      "Saved QR code as just_qr/217bfc2c-c464-493f-8971-9a7cb4992bda.png\n",
      "Saved QR code as just_qr/35007eee-1202-4147-8517-635b85b99dc1.png\n",
      "Saved QR code as just_qr/5ff27d5c-bbcd-4b2d-a313-04e199417a18.png\n",
      "Saved QR code as just_qr/73814be7-5f28-4ed1-a1f0-a68485327738.png\n",
      "Saved QR code as just_qr/ab190d29-60d6-4d88-b82d-d6e76ae71306.png\n",
      "Saved QR code as just_qr/4ab058f3-c914-4a3d-9024-1a651884633a.png\n",
      "Saved QR code as just_qr/3740c32f-b9fc-4e4a-852c-f36349a4b8b4.png\n",
      "Saved QR code as just_qr/421b92af-54ef-462d-b8fb-2c51680464c8.png\n",
      "Saved QR code as just_qr/e96f2b0c-c5be-4657-bf7d-3581354e596b.png\n",
      "Saved QR code as just_qr/cf1f5400-dce0-408a-95c0-33ff48d1b11d.png\n",
      "Saved QR code as just_qr/debed0ed-5f46-452c-8f46-2beb6d402a22.png\n",
      "Saved QR code as just_qr/f7e3acc4-b9b6-49b2-8933-e6a587c29a23.png\n",
      "Saved QR code as just_qr/fc117bcb-0f68-4ecf-91bd-20b7272c748e.png\n",
      "Saved QR code as just_qr/34ca33bf-9b46-4ad7-802b-16da262b4700.png\n",
      "Saved QR code as just_qr/dc94210c-945f-4e9a-aa21-6352cc527dd4.png\n",
      "Saved QR code as just_qr/a8e15bbf-5e68-4062-8266-7d55ae29a6ce.png\n",
      "Saved QR code as just_qr/12b890a7-83a5-440c-b6c5-f4c972698c10.png\n",
      "Saved QR code as just_qr/850ef8c3-f437-4ab8-88e7-414a7e9516e9.png\n",
      "Saved QR code as just_qr/f6b5a58b-25a0-40a3-ac46-9efadabd4259.png\n",
      "Saved QR code as just_qr/c20909c2-98d0-49a1-b33b-77f419f59320.png\n",
      "Saved QR code as just_qr/fcb9f108-336e-469d-86d4-7ab979f6a30b.png\n",
      "Saved QR code as just_qr/7d68625a-b73d-4e6e-9793-cff4735cd0e1.png\n",
      "Saved QR code as just_qr/1b62c9f0-b606-495b-85ca-a62cfc33cd1e.png\n",
      "Saved QR code as just_qr/c4cd1d1a-8936-4e20-8583-6f87bc92cd81.png\n",
      "Saved QR code as just_qr/6e347a75-7077-4ed8-833a-5bfeff2263b4.png\n",
      "Saved QR code as just_qr/ae7343d0-3bd1-4ea1-994e-5f91e95b59f8.png\n",
      "Saved QR code as just_qr/86f27ef9-565c-4c2d-a20a-a417e6f40495.png\n",
      "Saved QR code as just_qr/d6e28488-1de6-404d-8ace-778830b854d8.png\n",
      "Saved QR code as just_qr/f6c083c9-1b4d-450f-9166-ee3e96180fb5.png\n",
      "Saved QR code as just_qr/f97c957f-b86b-436a-8b01-923ce40f7cee.png\n",
      "Saved QR code as just_qr/1ce97b2c-ea03-4ebb-9c27-0b957ea6b8c8.png\n",
      "Saved QR code as just_qr/bea6f32c-81c9-4804-8a8e-e249229840af.png\n",
      "Saved QR code as just_qr/e2ef6f00-28ef-4f19-815b-ae43fde00b68.png\n",
      "Saved QR code as just_qr/b35c09f4-6924-43ee-b410-400287e59336.png\n",
      "Saved QR code as just_qr/951a6841-b0f9-4615-a177-5948c8ae6006.png\n",
      "Saved QR code as just_qr/363e2757-9554-4f2e-956b-4b33150da460.png\n",
      "Saved QR code as just_qr/7c282a5c-18af-4019-bbd0-11f7807ce3af.png\n",
      "Saved QR code as just_qr/a9c3bdf6-53d5-4d4f-ade0-17832e6336a3.png\n",
      "Saved QR code as just_qr/3049bf12-1a54-4026-a104-4af102c979ec.png\n",
      "Saved QR code as just_qr/c942a0bd-62a8-4d95-b1c7-ffd549e8a396.png\n",
      "Saved QR code as just_qr/7d54e44b-5937-4324-9f3e-018fd3cc530a.png\n",
      "Saved QR code as just_qr/db1e74ba-46ec-4c75-9a12-565a9f555d92.png\n",
      "Saved QR code as just_qr/c8e786d8-27aa-4e95-8f3c-b2b0de3e0e23.png\n",
      "Saved QR code as just_qr/dd031b61-b177-4301-ac0a-3eefd7b2cc77.png\n",
      "Saved QR code as just_qr/1b9c9644-09ef-4fd4-9b55-6dd030855114.png\n",
      "Saved QR code as just_qr/69d2eacc-ea01-4a45-84b1-4811111df3fc.png\n",
      "Saved QR code as just_qr/e08b6adf-11a5-4274-b52c-8c207cd907a1.png\n",
      "Saved QR code as just_qr/568f36af-7ae7-4b5a-8905-a66c3319daf3.png\n",
      "Saved QR code as just_qr/04835a0f-3106-445b-a7ec-6061fa19cd25.png\n",
      "Saved QR code as just_qr/0d3695e1-867b-4994-ad64-e1b05308b5a2.png\n",
      "Saved QR code as just_qr/ea6a4ccf-6fab-44b1-9c93-71655b81eb5c.png\n",
      "Saved QR code as just_qr/b2d1c906-5291-4b96-b666-5d393df88ef7.png\n",
      "Saved QR code as just_qr/ca9ff5dd-c073-47f2-930c-c5096dfdbb1b.png\n",
      "Saved QR code as just_qr/d2026a70-a6f2-4f3d-9694-247d301d7aee.png\n",
      "Saved QR code as just_qr/0d9a2e7a-f087-4c64-8cef-7a93ff590bbf.png\n",
      "Saved QR code as just_qr/0b33f7f7-db3e-4672-9d8f-2d7cd8a11c65.png\n",
      "Saved QR code as just_qr/c4db68fb-7850-4848-bd00-30c0ae201031.png\n",
      "Saved QR code as just_qr/7d166c1d-4bfc-4ff6-9d4c-39c2547deecb.png\n",
      "Saved QR code as just_qr/1adb6062-821d-485c-89c6-05e03d1c6ac6.png\n",
      "Saved QR code as just_qr/88578f3f-8aa6-4810-9266-2e3145fc464d.png\n",
      "Saved QR code as just_qr/003b7e4b-9f6c-46ae-aee9-409b2210adce.png\n",
      "Saved QR code as just_qr/e84a06d9-cd5c-4cc6-bede-4f78581b0ff1.png\n",
      "Saved QR code as just_qr/41605ebd-6636-497d-9500-31ad0164549f.png\n",
      "Saved QR code as just_qr/7e3e8b2c-359f-439a-90f6-9a5140815554.png\n",
      "Saved QR code as just_qr/cf90c69d-f1d9-437a-8ff2-8a40b8d9d429.png\n",
      "Saved QR code as just_qr/00563a99-9387-430d-992a-aa29f6b5ff6f.png\n",
      "Saved QR code as just_qr/6627cf82-ac97-4175-bca6-8b5e260d220a.png\n",
      "Saved QR code as just_qr/4c857c70-3166-49bd-94eb-177ad5b56063.png\n",
      "Saved QR code as just_qr/eaefad51-8a87-4acd-ab0d-eba347211b52.png\n",
      "Saved QR code as just_qr/68b20034-7bf5-402c-a984-4a0dfa0e1890.png\n",
      "Saved QR code as just_qr/fbfb1157-9bbd-40dd-8e88-6a922c3496f8.png\n",
      "Saved QR code as just_qr/fd9fa5f4-bfac-43a1-8eaf-af24ad7c43ce.png\n",
      "Saved QR code as just_qr/49fbddce-8d60-42b3-9a98-b5acaa9f5f0e.png\n",
      "Saved QR code as just_qr/be15cbce-dcf5-4fec-9479-82e0b05eb93b.png\n",
      "Saved QR code as just_qr/f9c70ebb-823f-47be-9def-c21c95c6d517.png\n",
      "Saved QR code as just_qr/ea429e94-f8a4-4b5d-b16b-1ee7679f7863.png\n",
      "Saved QR code as just_qr/42b1569b-f869-4626-8704-798019adaae7.png\n",
      "Saved QR code as just_qr/9209b5b1-a35d-4ac9-acde-7c9145ddb81f.png\n",
      "Saved QR code as just_qr/2bcdcec7-1588-4a35-ac59-2655b206510d.png\n",
      "Saved QR code as just_qr/8200f68d-cc7d-4a1e-9d70-4a1930aa6bc7.png\n",
      "Saved QR code as just_qr/e4db32e8-0a8a-4c3d-86b2-f31789f8064b.png\n",
      "Saved QR code as just_qr/2f9d5335-a9f4-4a48-baec-e23d27ade420.png\n",
      "Saved QR code as just_qr/54aedfd4-b64d-428e-bd65-5d65927cdab4.png\n",
      "Saved QR code as just_qr/dcdc480d-9c2d-4fe8-8983-b3ac9ddfda7d.png\n",
      "Saved QR code as just_qr/531c8da8-7ffe-45a4-b091-10eee7c2a9e4.png\n",
      "Saved QR code as just_qr/ca3e8082-cda8-4076-9469-5c8919e1daf4.png\n",
      "Saved QR code as just_qr/805f6394-8e4d-4ef5-b047-e5240684171b.png\n",
      "Saved QR code as just_qr/5d0cb14f-ec96-451e-9201-13739ab9fef5.png\n",
      "Saved QR code as just_qr/7919a8ec-aa98-4381-b22c-e021b2ca0482.png\n",
      "Saved QR code as just_qr/ff7358cf-1750-465c-92b3-8a1e13015c50.png\n",
      "Saved QR code as just_qr/90a2985d-e0f7-4fea-9bf9-0bfd7bda2fdf.png\n",
      "Saved QR code as just_qr/41444b9c-df72-4bbd-8a84-723c965c35d0.png\n",
      "Saved QR code as just_qr/a7ce80de-b783-4089-91df-053ebfdfff9c.png\n",
      "Saved QR code as just_qr/46c87e83-f1e8-4a13-a296-435b209f0ae8.png\n",
      "Saved QR code as just_qr/1d38cfaf-3fe4-4099-a309-581c95be6f2a.png\n",
      "Saved QR code as just_qr/049ae9f2-4804-4178-bd1e-45cbd204fc70.png\n",
      "Saved QR code as just_qr/ab7416d5-96f7-4d01-a6c0-89d33ae1e8e9.png\n",
      "Saved QR code as just_qr/de1ff880-9025-4f56-b66c-af7e64c57cf6.png\n",
      "Saved QR code as just_qr/9ef4e3df-068d-4d96-84ba-4035824db655.png\n"
     ]
    }
   ],
   "source": [
    "import qrcode\n",
    "for i, r in qis.iterrows():\n",
    "    # URL you want to convert into QR code\n",
    "    url = full_text\n",
    "\n",
    "    # Generate QR code\n",
    "    qr = qrcode.QRCode(\n",
    "        version=1,\n",
    "        error_correction=qrcode.constants.ERROR_CORRECT_L,\n",
    "        box_size=10,\n",
    "        border=4,\n",
    "    )\n",
    "\n",
    "    # Add URL data to the QR code\n",
    "    qr.add_data(url)\n",
    "    qr.make(fit=True)\n",
    "\n",
    "    # Create an image from the QR code instance\n",
    "    img = qr.make_image(fill_color=\"black\", back_color=\"white\")\n",
    "\n",
    "    # Specify the path and filename for the QR code image\n",
    "    file_path = \"just_qr/\"+r.uuid+ \".png\" # Save as PNG\n",
    "\n",
    "    # Save the image\n",
    "    img.save(file_path)\n",
    "    print(f\"Saved QR code as {file_path}\")\n"
   ]
  },
  {
   "cell_type": "code",
   "execution_count": null,
   "id": "47b99b2a",
   "metadata": {},
   "outputs": [],
   "source": []
  }
 ],
 "metadata": {
  "kernelspec": {
   "display_name": "Python 3",
   "language": "python",
   "name": "python3"
  },
  "language_info": {
   "codemirror_mode": {
    "name": "ipython",
    "version": 3
   },
   "file_extension": ".py",
   "mimetype": "text/x-python",
   "name": "python",
   "nbconvert_exporter": "python",
   "pygments_lexer": "ipython3",
   "version": "3.7.10"
  }
 },
 "nbformat": 4,
 "nbformat_minor": 5
}
